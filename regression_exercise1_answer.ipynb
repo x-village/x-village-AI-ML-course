{
 "cells": [
  {
   "cell_type": "markdown",
   "metadata": {},
   "source": [
    "# Regression Exercise - (1)\n",
    "## Requirements\n",
    "* 完成hypothesis function 和 cost function\n",
    "* 分別測試 (θ0 θ1) = (0, 0), (1 , 1), (10, -1)，印出算出的cost值\n",
    "* 觀察不同 θ 值所得到的regression line和cost之間的關係\n",
    "---"
   ]
  },
  {
   "cell_type": "code",
   "execution_count": 15,
   "metadata": {
    "collapsed": true
   },
   "outputs": [],
   "source": [
    "%matplotlib inline\n",
    "import numpy as np\n",
    "import pandas as pd\n",
    "import matplotlib.pyplot as plt"
   ]
  },
  {
   "cell_type": "markdown",
   "metadata": {},
   "source": [
    "### 讀檔以及畫圖的function"
   ]
  },
  {
   "cell_type": "code",
   "execution_count": null,
   "metadata": {
    "collapsed": true
   },
   "outputs": [],
   "source": [
    "# read input data\n",
    "def read_data(file_name):\n",
    "    data = pd.read_csv(file_name)\n",
    "\n",
    "    return data\n",
    "\n",
    "# plot input data\n",
    "def plot_input_data(data):\n",
    "    data_X = data['X_1'].values\n",
    "    data_y = data['y'].values\n",
    "    \n",
    "    plt.scatter(data_X, data_y, s=60, alpha=.6)\n",
    "    plt.xlabel(\"X_1\")\n",
    "    plt.ylabel(\"y\")\n",
    "    plt.show()\n",
    "\n",
    "# plot regression line\n",
    "def plot_regression_line(X, y, theta):\n",
    "    plt.scatter(X[:,1], y, s=60, alpha=.6)\n",
    "    plt.plot(X[:,1], theta[0][0] + theta[0][1]*X[:,1], 'r-')\n",
    "    plt.xlabel(\"X_1\")\n",
    "    plt.ylabel(\"y\")\n",
    "    plt.show()   "
   ]
  },
  {
   "cell_type": "markdown",
   "metadata": {},
   "source": [
    "### *請完成 h( ) 和 compute_cost( )\n",
    "- 提示\n",
    "    - numpy.dot\n",
    "    - numpy.power"
   ]
  },
  {
   "cell_type": "code",
   "execution_count": 9,
   "metadata": {
    "collapsed": true
   },
   "outputs": [],
   "source": [
    "# hypothesis function\n",
    "def h(X, theta):\n",
    "    return np.dot(X, theta.T)\n",
    "\n",
    "# cost function\n",
    "def compute_cost(X, y, theta):\n",
    "    total = np.power(h(X, theta) - y, 2)\n",
    "    m = len(X)\n",
    "    J = np.sum(total)/(2*m)\n",
    "    \n",
    "    return J"
   ]
  },
  {
   "cell_type": "markdown",
   "metadata": {},
   "source": [
    "### 印出 data.csv 內容以及視覺化"
   ]
  },
  {
   "cell_type": "code",
   "execution_count": 18,
   "metadata": {},
   "outputs": [
    {
     "name": "stdout",
     "output_type": "stream",
     "text": [
      "      X_1        y\n",
      "0  6.1101  17.5920\n",
      "1  5.5277   9.1302\n",
      "2  8.5186  13.6620\n",
      "3  7.0032  11.8540\n",
      "4  5.8598   6.8233\n"
     ]
    },
    {
     "data": {
      "image/png": "[encoded data removed]",
      "text/plain": [
       "<Figure size 432x288 with 1 Axes>"
      ]
     },
     "metadata": {},
     "output_type": "display_data"
    }
   ],
   "source": [
    "file_name = 'data/regression_exercise1_data.csv'\n",
    "\n",
    "data = read_data(file_name)\n",
    "\n",
    "print(data.head()) # show the head of data\n",
    "plot_input_data(data) # plot the input data"
   ]
  },
  {
   "cell_type": "markdown",
   "metadata": {},
   "source": [
    "### 補上feature x0 \n",
    "- 原本`h(x) = θ0 + θ1 * x1`，資料只有x1 這個feature\n",
    "- 等同於 `h(x) = θ0 * x0 + θ1 * x1`  (為方便計算補上feature x0，且設 x0全為1)"
   ]
  },
  {
   "cell_type": "code",
   "execution_count": 11,
   "metadata": {},
   "outputs": [
    {
     "name": "stdout",
     "output_type": "stream",
     "text": [
      "   X_0     X_1        y\n",
      "0    1  6.1101  17.5920\n",
      "1    1  5.5277   9.1302\n",
      "2    1  8.5186  13.6620\n",
      "3    1  7.0032  11.8540\n",
      "4    1  5.8598   6.8233\n"
     ]
    }
   ],
   "source": [
    "data.insert(0, 'X_0', 1)\n",
    "print(data.head())"
   ]
  },
  {
   "cell_type": "markdown",
   "metadata": {},
   "source": [
    "### 切分feature和label\n",
    "- 取column 'X_0', 'X_1' 當作feature (X)\n",
    "- 取column 'y' 當作label (y)"
   ]
  },
  {
   "cell_type": "code",
   "execution_count": 12,
   "metadata": {},
   "outputs": [
    {
     "name": "stdout",
     "output_type": "stream",
     "text": [
      "   X_0     X_1\n",
      "0    1  6.1101\n",
      "1    1  5.5277\n",
      "2    1  8.5186\n",
      "3    1  7.0032\n",
      "4    1  5.8598\n",
      "         y\n",
      "0  17.5920\n",
      "1   9.1302\n",
      "2  13.6620\n",
      "3  11.8540\n",
      "4   6.8233\n"
     ]
    }
   ],
   "source": [
    "X_df = data.iloc[:, 0:2]\n",
    "y_df = data.iloc[:, 2:3]\n",
    "\n",
    "print(X_df.head())\n",
    "print(y_df.head())"
   ]
  },
  {
   "cell_type": "markdown",
   "metadata": {},
   "source": [
    "### *分別測試 (θ0 θ1) = (0, 0), (1 , 1), (10, -1)，印出算出的cost值\n",
    "- 提示: 呼叫 compute_cost( ) \n",
    "\n",
    "### *觀察不同 θ 值所得到的regression line和cost之間的關係\n",
    "- 提示: 呼叫plot_regerssion_line( )"
   ]
  },
  {
   "cell_type": "code",
   "execution_count": 14,
   "metadata": {
    "collapsed": true
   },
   "outputs": [],
   "source": [
    "X = X_df.values\n",
    "y = y_df.values\n",
    "\n",
    "theta_initial1 = np.array([[0, 0]]) # theta_0, theta_1 = 0\n",
    "theta_initial2 = np.array([[1, 1]]) # theta_0 = 1 theta_1 = 1\n",
    "theta_initial3 = np.array([[10, -1]]) # theta_0 = 10, theta_1 = -1\n",
    "\n",
    "\n",
    "print('weight:', theta_initial1, 'cost:', compute_cost(X, y, theta_initial1))\n",
    "plot_regression_line(X, y, theta_initial1)\n",
    "\n",
    "print('weight:', theta_initial2, 'cost:', compute_cost(X, y, theta_initial2))\n",
    "plot_regression_line(X, y, theta_initial2)\n",
    "\n",
    "print('weight:', theta_initial3, 'cost:', compute_cost(X, y, theta_initial3))\n",
    "plot_regression_line(X, y, theta_initial3)"
   ]
  }
 ],
 "metadata": {
  "kernelspec": {
   "display_name": "Python 3",
   "language": "python",
   "name": "python3"
  },
  "language_info": {
   "codemirror_mode": {
    "name": "ipython",
    "version": 3
   },
   "file_extension": ".py",
   "mimetype": "text/x-python",
   "name": "python",
   "nbconvert_exporter": "python",
   "pygments_lexer": "ipython3",
   "version": "3.6.4"
  }
 },
 "nbformat": 4,
 "nbformat_minor": 2
}
