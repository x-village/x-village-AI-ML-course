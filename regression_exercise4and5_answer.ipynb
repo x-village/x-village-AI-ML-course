{
 "cells": [
  {
   "cell_type": "markdown",
   "metadata": {},
   "source": [
    "# Regression Exercise - (4)(5)"
   ]
  },
  {
   "cell_type": "code",
   "execution_count": 1,
   "metadata": {
    "collapsed": true
   },
   "outputs": [],
   "source": [
    "%matplotlib inline\n",
    "import matplotlib.pyplot as plt\n",
    "import numpy as np\n",
    "import pandas as pd"
   ]
  },
  {
   "cell_type": "markdown",
   "metadata": {},
   "source": [
    "### * Excercise (4)\n",
    "- 使用sklearn.datasets中的boston數據來訓練此Ridge, Lasso, ElasticNet\n",
    "- 印出三個model訓練完後的weights"
   ]
  },
  {
   "cell_type": "code",
   "execution_count": 1,
   "metadata": {},
   "outputs": [
    {
     "name": "stdout",
     "output_type": "stream",
     "text": [
      "Ridge:\n",
      " [-1.03621516e-01  4.74143761e-02 -8.54660332e-03  2.55422124e+00\n",
      " -1.07934364e+01  3.84925574e+00 -5.36782076e-03 -1.37257042e+00\n",
      "  2.89649799e-01 -1.29071544e-02 -8.76632534e-01  9.75351853e-03\n",
      " -5.34072106e-01]\n",
      "Lasso:\n",
      " [-0.06342255  0.04916867 -0.          0.         -0.          0.94678567\n",
      "  0.02092737 -0.66900864  0.26417501 -0.01520915 -0.72319901  0.00829117\n",
      " -0.76143296]\n",
      "Elastic Net:\n",
      " [-0.08019191  0.05322902 -0.01252934  0.         -0.          0.93268608\n",
      "  0.02058656 -0.7620405   0.30141294 -0.01643638 -0.74821876  0.00839777\n",
      " -0.758702  ]\n"
     ]
    }
   ],
   "source": [
    "### exercise 4\n",
    "from sklearn.linear_model import Ridge, Lasso, ElasticNet\n",
    "from sklearn.datasets import load_boston\n",
    "\n",
    "boston = load_boston()\n",
    "\n",
    "X = boston.data\n",
    "y = boston.target\n",
    "\n",
    "ridge = Ridge()\n",
    "ridge.fit(X,y)\n",
    "ridge_theta = ridge.coef_\n",
    "\n",
    "lasso = Lasso()\n",
    "lasso.fit(X,y)\n",
    "lasso_theta = lasso.coef_\n",
    "\n",
    "elas = ElasticNet()\n",
    "elas.fit(X, y)\n",
    "elas_theta = elas.coef_\n",
    "\n",
    "print('Ridge:\\n', ridge_theta)\n",
    "print('Lasso:\\n', lasso_theta)\n",
    "print('Elastic Net:\\n', elas_theta)"
   ]
  },
  {
   "cell_type": "markdown",
   "metadata": {},
   "source": [
    "### *Exercise(5)\n",
    "- 使用GridSearchCV來幫Ridge model調參，嘗試alpha = [1, 5, 10]，找出可以使結果最好的alpha值"
   ]
  },
  {
   "cell_type": "code",
   "execution_count": 2,
   "metadata": {},
   "outputs": [
    {
     "name": "stdout",
     "output_type": "stream",
     "text": [
      "Ridge(alpha=10, copy_X=True, fit_intercept=True, max_iter=None,\n",
      "   normalize=False, random_state=None, solver='auto', tol=0.001)\n"
     ]
    }
   ],
   "source": [
    "## exercise 5\n",
    "from sklearn.linear_model import Ridge, SGDRegressor\n",
    "from sklearn.datasets import load_boston\n",
    "from sklearn.model_selection import GridSearchCV\n",
    "\n",
    "boston = load_boston()\n",
    "X = boston.data\n",
    "y = boston.target\n",
    "\n",
    "ridge = Ridge()\n",
    "\n",
    "# 設定想測試的learning rate \n",
    "param_grid = {\n",
    "    'alpha': [1, 5, 10]\n",
    "}\n",
    "\n",
    "gs = GridSearchCV(ridge, param_grid)\n",
    "gs.fit(X, y)\n",
    "\n",
    "# 印出最好的model\n",
    "print(gs.best_estimator_)"
   ]
  }
 ],
 "metadata": {
  "kernelspec": {
   "display_name": "Python 3",
   "language": "python",
   "name": "python3"
  },
  "language_info": {
   "codemirror_mode": {
    "name": "ipython",
    "version": 3
   },
   "file_extension": ".py",
   "mimetype": "text/x-python",
   "name": "python",
   "nbconvert_exporter": "python",
   "pygments_lexer": "ipython3",
   "version": "3.6.4"
  }
 },
 "nbformat": 4,
 "nbformat_minor": 2
}
