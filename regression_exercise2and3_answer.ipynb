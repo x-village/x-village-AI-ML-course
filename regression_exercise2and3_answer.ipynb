{
 "cells": [
  {
   "cell_type": "markdown",
   "metadata": {},
   "source": [
    "# Regression Exercise - (2)(3)\n",
    "## Requirements\n",
    "* 使用 LinearRegression( ) and SGDRegressor( ) 來解Exercise - (1) 的數據\n",
    "* 印出兩種方法訓練完後得到的weight值 (θ) \n",
    "* 觀察兩種方法的結果差別\n",
    "* 印出RMSE\n",
    "---"
   ]
  },
  {
   "cell_type": "code",
   "execution_count": 1,
   "metadata": {
    "collapsed": true
   },
   "outputs": [],
   "source": [
    "%matplotlib inline\n",
    "import matplotlib.pyplot as plt\n",
    "import numpy as np\n",
    "import pandas as pd"
   ]
  },
  {
   "cell_type": "markdown",
   "metadata": {},
   "source": [
    "### 資料處理跟exercise-(1)一樣，可忽略"
   ]
  },
  {
   "cell_type": "code",
   "execution_count": 2,
   "metadata": {
    "collapsed": true
   },
   "outputs": [],
   "source": [
    "# read input data\n",
    "def read_data(file_name):\n",
    "    data = pd.read_csv(file_name)\n",
    "\n",
    "    return data\n",
    "\n",
    "# data preprocessing\n",
    "file_name = 'data/regression_exercise1_data.csv'\n",
    "data = read_data(file_name)\n",
    "\n",
    "data.insert(0, 'X_0', 1)\n",
    "\n",
    "X_df = data.iloc[:, 0:2]\n",
    "y_df = data.iloc[:, 2:3]\n",
    "\n",
    "X = X_df.values\n",
    "y = y_df.values"
   ]
  },
  {
   "cell_type": "markdown",
   "metadata": {},
   "source": [
    "### 畫linear regression 訓練完後的結果"
   ]
  },
  {
   "cell_type": "code",
   "execution_count": 3,
   "metadata": {
    "collapsed": true
   },
   "outputs": [],
   "source": [
    "def plot_regression_line(X, real_y, predicted_y):\n",
    "    '''\n",
    "    Parameter\n",
    "    ----------\n",
    "        X: `array`\n",
    "        real_y: `array`\n",
    "            真實的label值\n",
    "            \n",
    "        predicted_y: `array`\n",
    "            預測的label值\n",
    "    '''\n",
    "    plt.scatter(X, real_y, s=60, alpha=.6)\n",
    "    plt.plot(X, predicted_y, 'r-')\n",
    "    plt.show() "
   ]
  },
  {
   "cell_type": "markdown",
   "metadata": {},
   "source": [
    "### * 使用 LinearRegression( ) and SGDRegressor( ) 來解Exercise - (1) 的數據\n",
    "### * 印出兩種方法訓練完後得到的weight值 (θ) \n",
    "### * 觀察兩種方法的結果差別\n",
    "- 提示: `呼叫plot_regression_line(X[:,1], y, ???)`"
   ]
  },
  {
   "cell_type": "code",
   "execution_count": 4,
   "metadata": {},
   "outputs": [
    {
     "name": "stdout",
     "output_type": "stream",
     "text": [
      "LinearRegression weights: [[0.         1.19303364]]\n",
      "rmse: 2.9923139460876023\n"
     ]
    },
    {
     "name": "stderr",
     "output_type": "stream",
     "text": [
      "/usr/local/lib/python3.6/site-packages/scipy/linalg/basic.py:1226: RuntimeWarning: internal gelsd driver lwork query error, required iwork dimension not returned. This is likely the result of LAPACK bug 0038, fixed in LAPACK 3.2.2 (released July 21, 2010). Falling back to 'gelss' driver.\n",
      "  warnings.warn(mesg, RuntimeWarning)\n",
      "/usr/local/lib/python3.6/site-packages/sklearn/linear_model/stochastic_gradient.py:128: FutureWarning: max_iter and tol parameters have been added in <class 'sklearn.linear_model.stochastic_gradient.SGDRegressor'> in 0.19. If both are left unset, they default to max_iter=5 and tol=None. If tol is not None, max_iter defaults to max_iter=1000. From 0.21, default max_iter will be 1000, and default tol will be 1e-3.\n",
      "  \"and default tol will be 1e-3.\" % type(self), FutureWarning)\n",
      "/usr/local/lib/python3.6/site-packages/sklearn/utils/validation.py:578: DataConversionWarning: A column-vector y was passed when a 1d array was expected. Please change the shape of y to (n_samples, ), for example using ravel().\n",
      "  y = column_or_1d(y, warn=True)\n"
     ]
    },
    {
     "data": {
      "image/png": "[encoded data removed]",
      "text/plain": [
       "<Figure size 432x288 with 1 Axes>"
      ]
     },
     "metadata": {},
     "output_type": "display_data"
    },
    {
     "name": "stdout",
     "output_type": "stream",
     "text": [
      "SGDRegressor weights: [-0.77135411  0.87729553]\n",
      "rmse: 3.237498694445619\n"
     ]
    },
    {
     "data": {
      "image/png": "[encoded data removed]",
      "text/plain": [
       "<Figure size 432x288 with 1 Axes>"
      ]
     },
     "metadata": {},
     "output_type": "display_data"
    },
    {
     "name": "stdout",
     "output_type": "stream",
     "text": [
      "\n"
     ]
    }
   ],
   "source": [
    "## exercise 2 and 3\n",
    "from sklearn.linear_model import LinearRegression, SGDRegressor\n",
    "from sklearn.metrics import mean_squared_error, r2_score\n",
    "\n",
    "lr = LinearRegression()\n",
    "sgdr = SGDRegressor()\n",
    "\n",
    "lr.fit(X, y)\n",
    "lr_theta = lr.coef_\n",
    "lr_predicted_y = lr.predict(X)\n",
    "lr_rmse = np.sqrt(mean_squared_error(y, lr_predicted_y))\n",
    "\n",
    "sgdr.fit(X, y)\n",
    "sgdr_theta = sgdr.coef_\n",
    "sgdr_predicted_y = sgdr.predict(X)\n",
    "sgdr_rmse = np.sqrt(mean_squared_error(y, sgdr_predicted_y))\n",
    "\n",
    "\n",
    "print('LinearRegression weights:', lr_theta)\n",
    "print('rmse:', lr_rmse)\n",
    "plot_regression_line(X[:,1], y, lr_predicted_y)\n",
    "\n",
    "print('SGDRegressor weights:', sgdr_theta)\n",
    "print('rmse:', sgdr_rmse)\n",
    "plot_regression_line(X[:,1], y, sgdr_predicted_y)\n",
    "\n",
    "print()"
   ]
  }
 ],
 "metadata": {
  "kernelspec": {
   "display_name": "Python 3",
   "language": "python",
   "name": "python3"
  },
  "language_info": {
   "codemirror_mode": {
    "name": "ipython",
    "version": 3
   },
   "file_extension": ".py",
   "mimetype": "text/x-python",
   "name": "python",
   "nbconvert_exporter": "python",
   "pygments_lexer": "ipython3",
   "version": "3.6.4"
  }
 },
 "nbformat": 4,
 "nbformat_minor": 2
}
